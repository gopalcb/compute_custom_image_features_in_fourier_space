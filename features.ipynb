{
 "cells": [
  {
   "cell_type": "markdown",
   "id": "fd0101d1-ec30-48a9-8a5b-ae2ce3f1bbdf",
   "metadata": {},
   "source": [
    "#### Computing some features in Fourier space - could be used as experimental features while working with images"
   ]
  },
  {
   "cell_type": "code",
   "execution_count": 36,
   "id": "0e52cbf9-00cb-49e3-a8a5-2d981cb53743",
   "metadata": {},
   "outputs": [],
   "source": [
    "# Libraries import\n",
    "import numpy as np\n",
    "import math\n",
    "import os\n",
    "import cmath"
   ]
  },
  {
   "cell_type": "code",
   "execution_count": 37,
   "id": "3637ffc0-4c02-4d8b-b7df-1dc5bb01f69a",
   "metadata": {},
   "outputs": [],
   "source": [
    "# Length of square 2D sample\n",
    "N = 256"
   ]
  },
  {
   "cell_type": "markdown",
   "id": "119c3b04-4b93-4d44-b338-f77be4597b1c",
   "metadata": {},
   "source": [
    "#### Compute spectral rotation angle given r, c (real and complex parts)\n",
    "\n",
    "<img height=\"400\" width=\"400\" src=\"./figures/f1.PNG\" />"
   ]
  },
  {
   "cell_type": "code",
   "execution_count": 38,
   "id": "9262e6c3-28d9-4ec8-8ca6-d2934e807525",
   "metadata": {},
   "outputs": [],
   "source": [
    "# Compute spectral rotation angle given r,c\n",
    "def spectral_rotation_angle(r, c):\n",
    "    x = r - (N / 2)\n",
    "    y = (N / 2) - c\n",
    "    q = 0 if x == 0 or y == 0 else (y / x)\n",
    "    phase = math.atan(q)\n",
    "    return phase"
   ]
  },
  {
   "cell_type": "markdown",
   "id": "7cc4ab5a-0927-40f8-be21-564815de111d",
   "metadata": {},
   "source": [
    "#### Computing spectral deviation angle\n",
    "\n",
    "<img height=\"400\" width=\"400\" src=\"./figures/f3.PNG\" />"
   ]
  },
  {
   "cell_type": "code",
   "execution_count": 39,
   "id": "56866ec1-ff27-415c-b549-7329fc5816eb",
   "metadata": {},
   "outputs": [],
   "source": [
    "# Computing spectral deviation angle\n",
    "def compute_spectral_deviation_angle(p1, p2, p3):\n",
    "    # p1(x1,y1)\n",
    "    # p2(x2,y2)\n",
    "    # p3(x3,y3)\n",
    "    HX1 = []\n",
    "    HX2 = []\n",
    "    \n",
    "    HX1.append(p1[0]-5) # x1 0\n",
    "    HX1.append(p1[1]) # y1 1\n",
    "    HX1.append(p1[0]+5) # x2 2\n",
    "    HX1.append(p1[1]) # y2 3\n",
    "    \n",
    "    HX2.append(p2[0]-5)\n",
    "    HX2.append(p2[1])\n",
    "    HX2.append(p2[0]+5)\n",
    "    HX2.append(p2[1])\n",
    "    \n",
    "    M1 = (HX1[3]-HX1[1])/(HX1[2]-HX1[0]) # Slope of HX1\n",
    "    M2 = (p2[1]-p1[1])/(p2[0]-p1[0]) # Slope of p1p2\n",
    "    M3 = (HX2[3]-HX2[1])/(HX2[2]-HX2[0]) # Slope of HX2\n",
    "    M4 = (p3[1]-p2[1])/(p3[0]-p2[0]) # Slope of p2p3\n",
    "    \n",
    "    TAN1 = abs((M2-M1)/(1+M1*M2))\n",
    "    THETA1 = math.atan(TAN1)\n",
    "    \n",
    "    TAN2 = abs((M4-M3)/(1+M3*M4))\n",
    "    THETA2 = math.atan(TAN2)\n",
    "    \n",
    "    # For negative slope, THETA1 is negative\n",
    "    if M2 < 0:\n",
    "        THETA1 = -THETA1\n",
    "        \n",
    "    if p3[1] < p2[1]:\n",
    "        THETA2 = -THETA2\n",
    "    \n",
    "    THETA3 = THETA2-THETA1\n",
    "    \n",
    "    #OBJ.append(THETA3)\n",
    "    \n",
    "    return THETA3"
   ]
  },
  {
   "cell_type": "markdown",
   "id": "17b60a92-6460-48f7-bfd0-14eb76c6df5f",
   "metadata": {},
   "source": [
    "#### Compute sector index\n",
    "\n",
    "<img height=\"400\" width=\"400\" src=\"./figures/f2.PNG\" />"
   ]
  },
  {
   "cell_type": "code",
   "execution_count": 40,
   "id": "047d5931-53e9-47d3-8215-a09354b655d8",
   "metadata": {},
   "outputs": [],
   "source": [
    "# Compute sector index\n",
    "def compute_sector(r, c):\n",
    "    phase = math.atan(r/c)\n",
    "    phase_d = abs(np.degrees(phase))\n",
    "    #print(phase_d)\n",
    "    v = (phase_d/22.5)//1 #get only integer\n",
    "    if v == 16:\n",
    "        return 0\n",
    "    return v"
   ]
  },
  {
   "cell_type": "markdown",
   "id": "3daee355-8bac-4453-9119-52392091f4bb",
   "metadata": {},
   "source": [
    "#### Compute distance given r, c"
   ]
  },
  {
   "cell_type": "code",
   "execution_count": 41,
   "id": "b8d23ec1-cb9d-44b3-a1bf-afc6238afe38",
   "metadata": {},
   "outputs": [],
   "source": [
    "# Compute distance given r,c\n",
    "def compute_distance(r, c):\n",
    "    x = r - (N / 2)\n",
    "    y = (N / 2) - c\n",
    "    d = math.sqrt(x*x+y*y)\n",
    "    return d"
   ]
  },
  {
   "cell_type": "markdown",
   "id": "488ae739-5c65-4d60-b463-d8f6587494d8",
   "metadata": {},
   "source": [
    "#### Function call with dummy values"
   ]
  },
  {
   "cell_type": "code",
   "execution_count": 42,
   "id": "9f384c7b-a2e8-4fd1-916c-73cae193953f",
   "metadata": {},
   "outputs": [
    {
     "name": "stdout",
     "output_type": "stream",
     "text": [
      "The real part of complex number is : 5.0\n",
      "The imaginary part of complex number is : 3.0\n",
      "spectral rotation angle = -0.7934625047042153\n",
      "spectral deviation angle = 0.7853981633974483\n",
      "sector index = 2.0\n",
      "distance = 175.3681841155915\n"
     ]
    }
   ],
   "source": [
    "# F(u) = Re(u) + i · Im(u) \n",
    "z = 5+3j\n",
    "# Print the parts of Complex No.\n",
    "print(\"The real part of complex number is : \", end=\"\")\n",
    "print(z.real)\n",
    " \n",
    "print(\"The imaginary part of complex number is : \", end=\"\")\n",
    "print(z.imag)\n",
    "\n",
    "r, c = z.real, z.imag\n",
    "\n",
    "output = spectral_rotation_angle(r, c)\n",
    "print(f'spectral rotation angle = {output}')\n",
    "\n",
    "output = compute_spectral_deviation_angle([1,3], [2,3], [1,4])\n",
    "print(f'spectral deviation angle = {output}')\n",
    "\n",
    "output = compute_sector(r, c)\n",
    "print(f'sector index = {output}')\n",
    "\n",
    "output = compute_distance(r, c)\n",
    "print(f'distance = {output}')"
   ]
  }
 ],
 "metadata": {
  "kernelspec": {
   "display_name": "Python 3 (ipykernel)",
   "language": "python",
   "name": "python3"
  },
  "language_info": {
   "codemirror_mode": {
    "name": "ipython",
    "version": 3
   },
   "file_extension": ".py",
   "mimetype": "text/x-python",
   "name": "python",
   "nbconvert_exporter": "python",
   "pygments_lexer": "ipython3",
   "version": "3.11.2"
  }
 },
 "nbformat": 4,
 "nbformat_minor": 5
}
